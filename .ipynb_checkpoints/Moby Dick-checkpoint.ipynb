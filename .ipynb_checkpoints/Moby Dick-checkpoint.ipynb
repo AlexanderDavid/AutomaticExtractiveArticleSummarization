{
 "cells": [
  {
   "cell_type": "code",
   "execution_count": 1,
   "metadata": {
    "slideshow": {
     "slide_type": "slide"
    }
   },
   "outputs": [],
   "source": [
    "from nltk import corpus\n",
    "from TFIDF import summarize"
   ]
  },
  {
   "cell_type": "code",
   "execution_count": 2,
   "metadata": {
    "slideshow": {
     "slide_type": "subslide"
    }
   },
   "outputs": [],
   "source": [
    "moby = corpus.gutenberg.sents(\"melville-moby_dick.txt\")"
   ]
  },
  {
   "cell_type": "code",
   "execution_count": 3,
   "metadata": {
    "slideshow": {
     "slide_type": "slide"
    }
   },
   "outputs": [],
   "source": [
    "chapter_limits = []\n",
    "for i, line in enumerate(moby):\n",
    "    if (\"\".join(line).count(\"CHAPTER\") > 0 and len(line) == 2 and line[1].isdigit()) or \"\".join(line) == \"Epilogue\":\n",
    "        chapter_limits.append(i)"
   ]
  },
  {
   "cell_type": "code",
   "execution_count": 4,
   "metadata": {},
   "outputs": [],
   "source": [
    "chapter_lists = []\n",
    "for i, page in enumerate(chapter_limits[:-1]):\n",
    "    chapter_lists.append(moby[page + 1: chapter_limits[i + 1] - 1])\n",
    "    \n",
    "\n",
    "chapters = []\n",
    "for chapter_list in chapter_lists:\n",
    "    chapters.append(\" \".join(x for y in chapter_list[1:] for x in y).lower())\n",
    "    \n",
    "for chapter in chapters:\n",
    "    chapter = chapter.lower()"
   ]
  },
  {
   "cell_type": "code",
   "execution_count": 5,
   "metadata": {},
   "outputs": [
    {
     "name": "stdout",
     "output_type": "stream",
     "text": [
      "CHAPTER: 1\n",
      "on the contrary , passengers themselves must pay .\n",
      "whaling voyage by one ishmael . \"\n",
      "for to go as a passenger you must needs have a purse , and a purse is but a rag unless you have something in it .\n",
      "why upon your first voyage as a passenger , did you yourself feel such a mystical vibration , when first told that you and your ship were now out of sight of land ?\n",
      "right and left , the streets take you waterward .\n",
      "\n",
      "CHAPTER: 2\n",
      "euroclydon !\n",
      "such dreary streets !\n",
      "but what thinks lazarus ?\n",
      "says old dives , in his red silken wrapper --( he had a redder one afterwards ) pooh , pooh !\n",
      "would not lazarus rather be in sumatra than here ?\n",
      "\n",
      "CHAPTER: 3\n",
      "landlord !\n",
      "landlord !\n",
      "landlord !\n",
      "\" good night , landlord ,\" said i , \" you may go .\"\n",
      "\" landlord ,\" i whispered , \" that aint the harpooneer is it ?\"\n",
      "\n",
      "CHAPTER: 4\n",
      "queequeg !-- in the name of goodness , queequeg , wake !\"\n",
      "my sensations were strange .\n",
      "sixteen hours in bed !\n",
      "i felt dreadfully .\n",
      "i now strove to rouse him --\" queequeg !\"\n",
      "\n",
      "CHAPTER: 5\n",
      "grub , ho !\"\n",
      "a curious sight ; these bashful bears , these timid warrior whalemen !\n",
      "i quickly followed suit , and descending into the bar - room accosted the grinning landlord very pleasantly .\n",
      "which , barred with various tints , seemed like the andes ' western slope , to show forth in one array , contrasting climates , zone by zone . \"\n",
      "they were nearly all whalemen ; chief mates , and second mates , and third mates , and sea carpenters , and sea coopers , and sea blacksmiths , and harpooneers , and ship keepers ; a brown and brawny company , with bosky beards ; an unshorn , shaggy set , all wearing monkey jackets for morning gowns .\n",
      "\n",
      "CHAPTER: 6\n",
      "but new bedford beats all water street and wapping .\n",
      "still new bedford is a queer place .\n",
      "and the women of new bedford , they bloom like their own red roses .\n",
      "even in broadway and chestnut streets , mediterranean mariners will sometimes jostle the affrighted ladies .\n",
      "in these last - mentioned haunts you see only sailors ; but in new bedford , actual cannibals stand chatting at street corners ; savages outright ; many of whom yet carry on their bones unholy flesh .\n",
      "\n"
     ]
    }
   ],
   "source": [
    "for i, chapter in enumerate(chapters):\n",
    "    print(\"CHAPTER: {}\".format(str(i + 1)))\n",
    "    print(\"\\n\".join(summarize(chapter, chapters)))\n",
    "    print()\n",
    "    if i == 5:\n",
    "        break"
   ]
  },
  {
   "cell_type": "code",
   "execution_count": null,
   "metadata": {},
   "outputs": [],
   "source": [
    "chapt"
   ]
  }
 ],
 "metadata": {
  "kernelspec": {
   "display_name": "Python 3",
   "language": "python",
   "name": "python3"
  },
  "language_info": {
   "codemirror_mode": {
    "name": "ipython",
    "version": 3
   },
   "file_extension": ".py",
   "mimetype": "text/x-python",
   "name": "python",
   "nbconvert_exporter": "python",
   "pygments_lexer": "ipython3",
   "version": "3.6.7"
  }
 },
 "nbformat": 4,
 "nbformat_minor": 2
}
