{
 "cells": [
  {
   "cell_type": "code",
   "execution_count": 50,
   "metadata": {},
   "outputs": [],
   "source": [
    "import praw\n",
    "from TFIDF import summarize"
   ]
  },
  {
   "cell_type": "code",
   "execution_count": 51,
   "metadata": {},
   "outputs": [],
   "source": [
    "reddit = praw.Reddit(client_id='nvtf7haFL-IiVw',\n",
    "                     client_secret='-lkD2FLSKNjTmR0thDjOimbj9uA',\n",
    "                     user_agent='SummarizerBot')"
   ]
  },
  {
   "cell_type": "code",
   "execution_count": 52,
   "metadata": {},
   "outputs": [],
   "source": [
    "titles = []\n",
    "selftext = []\n",
    "for submission in reddit.subreddit('legaladvice').top(\"month\", limit=100):\n",
    "    titles.append(submission.title)\n",
    "    selftext.append(submission.selftext.strip())\n"
   ]
  },
  {
   "cell_type": "code",
   "execution_count": 53,
   "metadata": {},
   "outputs": [
    {
     "name": "stdout",
     "output_type": "stream",
     "text": [
      "My wife has fallen for the anti-vax nonsense and refuses to vaccinate our child! I’m growing very worried\n",
      "\n",
      "But now there’s this anti-vax bullshit.\n",
      "She’s always been one for quirky, “against-the-grain” thinking and interests.\n",
      "She follows that up with “Those statistics are created by think tanks funded by the government and “big-pharma”  She won’t budge and hasn’t budged for weeks now.\n",
      "They’re completely different!”  I’ve tried showing her the statistics detailing the infant mortality rates in lesser developed countries where vaccination isn’t as pertinent and that vaccines are effective.\n",
      "However, now She’s refusing to give our child any of the other vaccines.\n",
      "\n",
      "Subaru Service center gave my car to someone else\n",
      "\n",
      "FINAL UPDATE  So I dropped my Subaru WRX off to be serviced at a third party service center.\n",
      "Thanks again everyone!\n",
      "At this point Im going to get a lawyer involved right?\n",
      "They are just a third party service center, I have and do not want any hate going out towards Subaru, they did nothing.\n",
      "<EDIT: I need to clarify a mistake I made earlier when posting this, they are not an official Subaru service center as I previously thought.\n",
      "\n",
      "My Daughter Disowned my Underage Grandson. What do I do?\n",
      "\n",
      "Location: New Jersey, USA    Edit: Thank you for all your assistance.\n",
      "My sixteen-year-old grandson was kicked out by his mother because he came out of the closet.\n",
      "He travelled by bus to my doorstep, two states over from where he lives.\n",
      "I honestly thought I raised her better than to act in such a manner.\n",
      "I phoned my daughter and she said she doesn't want him back.\n",
      "\n",
      "My mom dropped her dog off at a local kennel, an hour later she escaped. They kennel never called and my mom left on her flight early the next morning. When she called an hour ago to check in they told her they had lost the dog. In sub zero temps overnight, the dog is likely dead.\n",
      "\n",
      "THEY NEVER CALLED MY MOM AFTER SHE ESCAPED.\n",
      "In all likelihood, my moms beloved companion, is dead.\n",
      "She has a small rescue chihuahua-like dog who was dropped off at a kennel at 2:30 yesterday (the 11th) in anticipation of a week long vacation she is taking.\n",
      "&#x200B;  Edit: We live in Maine  &#x200B;  Edit II:   We have a post up on Maine Lost dog rescue, and a number  of other groups with her picture and our phone numbers.\n",
      "Everything seemed fine, she left on her flight today at 6:00 am, and decided to call the kennel around 10 Am to check in on her beloved pooch.\n",
      "\n",
      "Lyft charged me $100 for throwing up in my drivers car on the way to the bar on NYE. I was sober at the time with my girl friend and neither of us threw up. What should I do?\n",
      "\n",
      "Still no reply from Lyft.\n",
      "North Carolina: Lyft has pictures of his stained car with food strewn about.\n",
      "Update: Lyft has informed me that the evidence the driver gave was enough to close the claim indefinitely.\n",
      "Also, the last email that they sent me said that my driver “Roy” (not my driver) filed the claim promptly.... Who the fuck is Roy and where is my fucking money!\n",
      "Will update soon with photos .\n",
      "\n",
      "Doctors office charged us for vaccines we refused\n",
      "\n",
      "**Before you downvote, this is NOT an antivax situation.\n",
      "They had to trash the vaccine, and our insurance was billed.\n",
      "5 minutes later the nurse comes in with a needle for a vaccine we 100% knew we already had taken and were current with.\n",
      "**  We went in for a yearly physical for my son, and at the end the doctor left the room to check if we needed any vaccines.\n",
      "What do we do?\n",
      "\n"
     ]
    }
   ],
   "source": [
    "for i, post in enumerate(selftext):\n",
    "    print(titles[i])\n",
    "    print()\n",
    "    print(\"\\n\".join(x.replace(\"\\n\", \" \") for x in summarize(post, selftext)))\n",
    "    print()\n",
    "    if i == 5:\n",
    "        break"
   ]
  }
 ],
 "metadata": {
  "kernelspec": {
   "display_name": "Python 3",
   "language": "python",
   "name": "python3"
  },
  "language_info": {
   "codemirror_mode": {
    "name": "ipython",
    "version": 3
   },
   "file_extension": ".py",
   "mimetype": "text/x-python",
   "name": "python",
   "nbconvert_exporter": "python",
   "pygments_lexer": "ipython3",
   "version": "3.6.7"
  }
 },
 "nbformat": 4,
 "nbformat_minor": 2
}
