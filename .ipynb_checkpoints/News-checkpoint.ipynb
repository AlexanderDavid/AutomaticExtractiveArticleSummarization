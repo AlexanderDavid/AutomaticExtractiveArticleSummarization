{
 "cells": [
  {
   "cell_type": "code",
   "execution_count": 1,
   "metadata": {},
   "outputs": [],
   "source": [
    "from nltk.corpus import reuters\n",
    "from TFIDF import summarize\n",
    "import TextRank"
   ]
  },
  {
   "cell_type": "code",
   "execution_count": 2,
   "metadata": {},
   "outputs": [],
   "source": [
    "articles = []\n",
    "\n",
    "for doc_id in reuters.fileids():\n",
    "        if doc_id.startswith(\"train\"):\n",
    "            articles.append(reuters.raw(doc_id).replace(\"\\n\", \"\"))"
   ]
  },
  {
   "cell_type": "code",
   "execution_count": 3,
   "metadata": {},
   "outputs": [
    {
     "name": "stdout",
     "output_type": "stream",
     "text": [
      "ARTICLE: 1 - TFIDF\n",
      "\n",
      "New crop sales were also light and all to open ports with  June/July going at 1,850 and 1,880 dlrs and at 35 and 45 dlrs  under New York july, Aug/Sept at 1,870, 1,875 and 1,880 dlrs  per tonne FOB.\n",
      "March/April sold at  4,340, 4,345 and 4,350 dlrs.\n",
      "April/May butter went at 2.27 times New York May, June/July  at 4,400 and 4,415 dlrs, Aug/Sept at 4,351 to 4,450 dlrs and at  2.27 and 2.28 times New York Sept and Oct/Dec at 4,480 dlrs and  2.27 times New York Dec, Comissaria Smith said.\n",
      "Cake sales were registered at 785 to 995 dlrs for  March/April, 785 dlrs for May, 753 dlrs for Aug and 0.39 times  New York Dec for Oct/Dec.\n",
      "Liquor sales were limited with March/April selling at 2,325  and 2,380 dlrs, June/July at 2,375 dlrs and at 1.25 times New  York July, Aug/Sept at 2,400 dlrs and at 1.25 times New York  Sept and Oct/Dec at 1.25 times New York Dec, Comissaria Smith  said.\n",
      "\n",
      "ARTICLE: 1 - TextRank\n",
      "\n",
      "Comissaria Smith said there is still some doubt as to how  much old crop cocoa is still available as harvesting has  practically come to an end.\n",
      "New crop sales were also light and all to open ports with  June/July going at 1,850 and 1,880 dlrs and at 35 and 45 dlrs  under New York july, Aug/Sept at 1,870, 1,875 and 1,880 dlrs  per tonne FOB.\n",
      "April/May butter went at 2.27 times New York May, June/July  at 4,400 and 4,415 dlrs, Aug/Sept at 4,351 to 4,450 dlrs and at  2.27 and 2.28 times New York Sept and Oct/Dec at 4,480 dlrs and  2.27 times New York Dec, Comissaria Smith said.\n",
      "Cake sales were registered at 785 to 995 dlrs for  March/April, 785 dlrs for May, 753 dlrs for Aug and 0.39 times  New York Dec for Oct/Dec.\n",
      "Liquor sales were limited with March/April selling at 2,325  and 2,380 dlrs, June/July at 2,375 dlrs and at 1.25 times New  York July, Aug/Sept at 2,400 dlrs and at 1.25 times New York  Sept and Oct/Dec at 1.25 times New York Dec, Comissaria Smith  said.\n",
      "\n"
     ]
    }
   ],
   "source": [
    "for i, article in enumerate(articles):\n",
    "    print(\"ARTICLE: {} - TFIDF\".format(str(i + 1)), )\n",
    "    print()\n",
    "    print(\"\\n\".join(summarize(article, articles)))\n",
    "    print()\n",
    "    \n",
    "    print(\"ARTICLE: {} - TextRank\".format(str(i + 1)), )\n",
    "    print()\n",
    "    print(\"\\n\".join(TextRank.summarize(article, articles, i == 0)))\n",
    "    print()\n",
    "    \n",
    "    if i == 5:\n",
    "        break"
   ]
  }
 ],
 "metadata": {
  "kernelspec": {
   "display_name": "Python 3",
   "language": "python",
   "name": "python3"
  },
  "language_info": {
   "codemirror_mode": {
    "name": "ipython",
    "version": 3
   },
   "file_extension": ".py",
   "mimetype": "text/x-python",
   "name": "python",
   "nbconvert_exporter": "python",
   "pygments_lexer": "ipython3",
   "version": "3.6.7"
  }
 },
 "nbformat": 4,
 "nbformat_minor": 2
}
