{
 "cells": [
  {
   "cell_type": "code",
   "execution_count": 1,
   "metadata": {
    "slideshow": {
     "slide_type": "slide"
    }
   },
   "outputs": [],
   "source": [
    "from nltk import corpus\n",
    "from TFIDF import summarize\n",
    "from nltk.tokenize import word_tokenize\n",
    "import TextRank"
   ]
  },
  {
   "cell_type": "code",
   "execution_count": 2,
   "metadata": {
    "slideshow": {
     "slide_type": "subslide"
    }
   },
   "outputs": [],
   "source": [
    "moby = corpus.gutenberg.sents(\"melville-moby_dick.txt\")"
   ]
  },
  {
   "cell_type": "code",
   "execution_count": 3,
   "metadata": {
    "slideshow": {
     "slide_type": "slide"
    }
   },
   "outputs": [],
   "source": [
    "chapter_limits = []\n",
    "for i, line in enumerate(moby):\n",
    "    if (\"\".join(line).count(\"CHAPTER\") > 0 and len(line) == 2 and line[1].isdigit()) or \"\".join(line) == \"Epilogue\":\n",
    "        chapter_limits.append(i)"
   ]
  },
  {
   "cell_type": "code",
   "execution_count": 4,
   "metadata": {},
   "outputs": [],
   "source": [
    "chapter_lists = []\n",
    "for i, page in enumerate(chapter_limits[:-1]):\n",
    "    chapter_lists.append(moby[page + 1: chapter_limits[i + 1] - 1])\n",
    "    \n",
    "\n",
    "chapters = []\n",
    "for chapter_list in chapter_lists:\n",
    "    chapters.append(\" \".join(x for y in chapter_list[1:] for x in y).lower())\n",
    "    \n",
    "for chapter in chapters:\n",
    "    chapter = chapter.lower()"
   ]
  },
  {
   "cell_type": "code",
   "execution_count": 5,
   "metadata": {},
   "outputs": [
    {
     "name": "stdout",
     "output_type": "stream",
     "text": [
      "CHAPTER: 1 -- TFIDF\n",
      "right and left , the streets take you waterward .\n",
      "why upon your first voyage as a passenger , did you yourself feel such a mystical vibration , when first told that you and your ship were now out of sight of land ?\n",
      "for to go as a passenger you must needs have a purse , and a purse is but a rag unless you have something in it .\n",
      "on the contrary , passengers themselves must pay .\n",
      "whaling voyage by one ishmael . \"\n",
      "\n",
      "CHAPTER: 1 -- TextRank\n",
      "deep into distant woodlands winds a mazy way , reaching to overlapping spurs of mountains bathed in their hill - side blue .\n",
      "why did the poor poet of tennessee , upon suddenly receiving two handfuls of silver , deliberate whether to buy him a coat , which he sadly needed , or invest his money in a pedestrian trip to rockaway beach ?\n",
      "well , then , however the old sea - captains may order me about -- however they may thump and punch me about , i have the satisfaction of knowing that it is all right ; that everybody else is one way or other served in much the same way -- either in a physical or metaphysical point of view , that is ; and so the universal thump is passed round , and all hands should rub each other ' s shoulder - blades , and be content .\n",
      "but wherefore it was that after having repeatedly smelt the sea as a merchant sailor , i should now take it into my head to go on a whaling voyage ; this the invisible police officer of the fates , who has the constant surveillance of me , and secretly dogs me , and influences me in some unaccountable way -- he can better answer than any one else .\n",
      "with other men , perhaps , such things would not have been inducements ; but as for me , i am tormented with an everlasting itch for things remote .\n",
      "\n",
      "CHAPTER: 2 -- TFIDF\n",
      "such dreary streets !\n",
      "euroclydon !\n",
      "says old dives , in his red silken wrapper --( he had a redder one afterwards ) pooh , pooh !\n",
      "but what thinks lazarus ?\n",
      "would not lazarus rather be in sumatra than here ?\n",
      "\n",
      "CHAPTER: 2 -- TextRank\n",
      "as most young candidates for the pains and penalties of whaling stop at this same new bedford , thence to embark on their voyage , it may as well be related that i , for one , had no idea of so doing .\n",
      "and where but from nantucket , too , did that first adventurous little sloop put forth , partly laden with imported cobblestones -- so goes the story -- to throw at the whales , in order to discover when they were nigh enough to risk a harpoon from the bowsprit ?\n",
      "it was a very dubious - looking , nay , a very dark and dismal night , bitingly cold and cheerless .\n",
      "with anxious grapnels i had sounded my pocket , and only brought up a few pieces of silver ,-- so , wherever you go , ishmael , said i to myself , as i stood in the middle of a dreary street shouldering my bag , and comparing the gloom towards the north with the darkness towards the south -- wherever in your wisdom you may conclude to lodge for the night , my dear ishmael , be sure to inquire the price , and don ' t be too particular .\n",
      "poor lazarus there , chattering his teeth against the curbstone for his pillow , and shaking off his tatters with his shiverings , he might plug up both ears with rags , and put a corn - cob into his mouth , and yet that would not keep out the tempestuous euroclydon .\n",
      "\n",
      "CHAPTER: 3 -- TFIDF\n",
      "\" landlord ,\" i whispered , \" that aint the harpooneer is it ?\"\n",
      "landlord !\n",
      "landlord !\n",
      "landlord !\n",
      "\" good night , landlord ,\" said i , \" you may go .\"\n",
      "\n",
      "CHAPTER: 3 -- TextRank\n",
      "such unaccountable masses of shades and shadows , that at first you almost thought some ambitious young artist , in the time of the new england hags , had endeavored to delineate chaos bewitched .\n",
      "within are shabby shelves , ranged round with old decanters , bottles , flasks ; and in those jaws of swift destruction , like another cursed jonah ( by which name indeed they called him ), bustles a little withered old man , who , for their money , dearly sells the sailors deliriums and death .\n",
      "enveloped in their shaggy watch coats , and with their heads muffled in woollen comforters , all bedarned and ragged , and their beards stiff with icicles , they seemed an eruption of bears from labrador .\n",
      "his voice at once announced that he was a southerner , and from his fine stature , i thought he must be one of those tall mountaineers from the alleghanian ridge in virginia .\n",
      "but beginning to feel very cold now , half undressed as i was , and remembering what the landlord said about the harpooneer ' s not coming home at all that night , it being so very late , i made no more ado , but jumped out of my pantaloons and boots , and then blowing out the light tumbled into bed , and commended myself to the care of heaven .\n",
      "\n",
      "CHAPTER: 4 -- TFIDF\n",
      "my sensations were strange .\n",
      "i felt dreadfully .\n",
      "sixteen hours in bed !\n",
      "i now strove to rouse him --\" queequeg !\"\n",
      "queequeg !-- in the name of goodness , queequeg , wake !\"\n",
      "\n",
      "CHAPTER: 4 -- TextRank\n",
      "i had been cutting up some caper or other -- i think it was trying to crawl up the chimney , as i had seen a little sweep do a few days previous ; and my stepmother who , somehow or other , was all the time whipping me , or sending me to bed supperless ,-- my mother dragged me by the legs out of the chimney and packed me off to bed , though it was only two o ' clock in the afternoon of the 21st june , the longest day in the year in our hemisphere .\n",
      "i knew not how this consciousness at last glided away from me ; but waking in the morning , i shudderingly remembered it all , and for days and weeks and months afterwards i lost myself in confounding attempts to explain the mystery .\n",
      "at length , by dint of much wriggling , and loud and incessant expostulations upon the unbecomingness of his hugging a fellow male in that matrimonial sort of style , i succeeded in extracting a grunt ; and presently , he drew back his arm , shook himself all over like a newfoundland dog just from the water , and sat up in bed , stiff as a pike - staff , looking at me , and rubbing his eyes as if he did not altogether remember how i came to be there , though a dim consciousness of knowing something about me seemed slowly dawning over him .\n",
      "thinks i , queequeg , under the circumstances , this is a very civilized overture ; but , the truth is , these savages have an innate sense of delicacy , say what you will ; it is marvellous how essentially polite they are .\n",
      "at last , he emerged with his hat very much dented and crushed down over his eyes , and began creaking and limping about the room , as if , not being much accustomed to boots , his pair of damp , wrinkled cowhide ones -- probably not made to order either -- rather pinched and tormented him at the first go off of a bitter cold morning .\n",
      "\n",
      "CHAPTER: 5 -- TFIDF\n",
      "i quickly followed suit , and descending into the bar - room accosted the grinning landlord very pleasantly .\n",
      "they were nearly all whalemen ; chief mates , and second mates , and third mates , and sea carpenters , and sea coopers , and sea blacksmiths , and harpooneers , and ship keepers ; a brown and brawny company , with bosky beards ; an unshorn , shaggy set , all wearing monkey jackets for morning gowns .\n",
      "which , barred with various tints , seemed like the andes ' western slope , to show forth in one array , contrasting climates , zone by zone . \"\n",
      "grub , ho !\"\n",
      "a curious sight ; these bashful bears , these timid warrior whalemen !\n",
      "\n",
      "CHAPTER: 5 -- TextRank\n",
      "so , if any one man , in his own proper person , afford stuff for a good joke to anybody , let him not be backward , but let him cheerfully allow himself to spend and be spent in that way .\n",
      "they were nearly all whalemen ; chief mates , and second mates , and third mates , and sea carpenters , and sea coopers , and sea blacksmiths , and harpooneers , and ship keepers ; a brown and brawny company , with bosky beards ; an unshorn , shaggy set , all wearing monkey jackets for morning gowns .\n",
      "not always , though : ledyard , the great new england traveller , and mungo park , the scotch one ; of all men , they possessed the least assurance in the parlor .\n",
      "yes , here were a set of sea - dogs , many of whom without the slightest bashfulness had boarded great whales on the high seas -- entire strangers to them -- and duelled them dead without winking ; and yet , here they sat at a social breakfast table -- all of the same calling , all of kindred tastes -- looking round as sheepishly at each other as though they had never been out of sight of some sheepfold among the green mountains .\n",
      "his greatest admirer could not have cordially justified his bringing his harpoon into breakfast with him , and using it there without ceremony ; reaching over the table with it , to the imminent jeopardy of many heads , and grappling the beefsteaks towards him .\n",
      "\n",
      "CHAPTER: 6 -- TFIDF\n",
      "even in broadway and chestnut streets , mediterranean mariners will sometimes jostle the affrighted ladies .\n",
      "but new bedford beats all water street and wapping .\n",
      "in these last - mentioned haunts you see only sailors ; but in new bedford , actual cannibals stand chatting at street corners ; savages outright ; many of whom yet carry on their bones unholy flesh .\n",
      "still new bedford is a queer place .\n",
      "and the women of new bedford , they bloom like their own red roses .\n",
      "\n",
      "CHAPTER: 6 -- TextRank\n",
      "if i had been astonished at first catching a glimpse of so outlandish an individual as queequeg circulating among the polite society of a civilized town , that astonishment soon departed upon taking my first daylight stroll through the streets of new bedford .\n",
      "but , besides the feegeeans , tongatobooarrs , erromanggoans , pannangians , and brighggians , and , besides the wild specimens of the whaling - craft which unheeded reel about the streets , you will see other sights still more curious , certainly more comical .\n",
      "how bitterly will burst those straps in the first howling gale , when thou art driven , straps , buttons , and all , down the throat of the tempest .\n",
      "in new bedford , fathers , they say , give whales for dowers to their daughters , and portion off their nieces with a few porpoises a - piece .\n",
      "and in august , high in air , the beautiful and bountiful horse - chestnuts , candelabra - wise , proffer the passer - by their tapering upright cones of congregated blossoms .\n",
      "\n"
     ]
    }
   ],
   "source": [
    "for i, chapter in enumerate(chapters):\n",
    "    print(\"CHAPTER: {} -- TFIDF\".format(str(i + 1)))\n",
    "    print(\"\\n\".join(summarize(chapter, chapters)))\n",
    "    print()\n",
    "    \n",
    "    print(\"CHAPTER: {} -- TextRank\".format(str(i + 1)))\n",
    "    print(\"\\n\".join(TextRank.summarize(chapter, chapters, i==0)))\n",
    "    print()\n",
    "    if i == 5:\n",
    "        break"
   ]
  },
  {
   "cell_type": "code",
   "execution_count": 14,
   "metadata": {},
   "outputs": [],
   "source": [
    "all_words = []\n",
    "for chapter in chapters:\n",
    "    all_words = all_words + word_tokenize(chapter)\n"
   ]
  },
  {
   "cell_type": "code",
   "execution_count": 17,
   "metadata": {},
   "outputs": [
    {
     "data": {
      "text/plain": [
       "135"
      ]
     },
     "execution_count": 17,
     "metadata": {},
     "output_type": "execute_result"
    }
   ],
   "source": [
    "len(all_words)\n",
    "len(chapters)"
   ]
  }
 ],
 "metadata": {
  "kernelspec": {
   "display_name": "Python 3",
   "language": "python",
   "name": "python3"
  },
  "language_info": {
   "codemirror_mode": {
    "name": "ipython",
    "version": 3
   },
   "file_extension": ".py",
   "mimetype": "text/x-python",
   "name": "python",
   "nbconvert_exporter": "python",
   "pygments_lexer": "ipython3",
   "version": "3.6.7"
  }
 },
 "nbformat": 4,
 "nbformat_minor": 2
}
